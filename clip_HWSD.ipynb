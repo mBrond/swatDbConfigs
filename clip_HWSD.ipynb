{
 "cells": [
  {
   "cell_type": "code",
   "execution_count": 1,
   "id": "3b588d9c",
   "metadata": {},
   "outputs": [],
   "source": [
    "import sqlite3\n",
    "import csv\n",
    "from mdb2sqlite import *"
   ]
  },
  {
   "cell_type": "code",
   "execution_count": 2,
   "id": "7a21a1e7",
   "metadata": {
    "scrolled": true
   },
   "outputs": [],
   "source": [
    "mu_global = []\n",
    "csvPath = \"\"\n",
    "mdbPath = \"\"\n",
    "sqlitePath = \"HWSD.sqlite\""
   ]
  },
  {
   "cell_type": "code",
   "execution_count": 3,
   "id": "84a50724",
   "metadata": {},
   "outputs": [
    {
     "name": "stdout",
     "output_type": "stream",
     "text": [
      "D_ADD_PROP\n",
      "D_AWC\n",
      "D_COVERAGE\n",
      "D_DRAINAGE\n",
      "D_IL\n",
      "D_ISSOIL\n",
      "D_PHASE\n",
      "D_ROOTS\n",
      "D_SWR\n",
      "D_SYMBOL\n",
      "D_SYMBOL74\n",
      "D_SYMBOL85\n",
      "D_SYMBOL90\n",
      "D_TEXTURE\n",
      "D_USDA_TEX_CLASS\n",
      "HWSD_DATA\n",
      "HWSD_SMU\n"
     ]
    }
   ],
   "source": [
    "mdb2sqlite(mdbPath, sqlitePath)"
   ]
  },
  {
   "cell_type": "code",
   "execution_count": 4,
   "id": "c6ae7301",
   "metadata": {},
   "outputs": [],
   "source": [
    "for item in range(len(mu_global)):\n",
    "    try:\n",
    "        integer = int(mu_global[item])\n",
    "    except:\n",
    "        print(mu_global[item]+\" não é código válido.\")\n",
    "        mu_global.pop(item)"
   ]
  },
  {
   "cell_type": "code",
   "execution_count": 5,
   "id": "9543a0fe",
   "metadata": {},
   "outputs": [],
   "source": [
    "con = sqlite3.connect(sqlitePath)\n",
    "cursor = con.cursor()"
   ]
  },
  {
   "cell_type": "code",
   "execution_count": 6,
   "id": "49a9683a",
   "metadata": {},
   "outputs": [],
   "source": [
    "query = \"PRAGMA table_info(HWSD_DATA);\"\n",
    "collumns = cursor.execute(query)"
   ]
  },
  {
   "cell_type": "code",
   "execution_count": 7,
   "id": "3b10bf77",
   "metadata": {},
   "outputs": [],
   "source": [
    "header = str()\n",
    "for collumn in collumns:\n",
    "    header = header+str(collumn[1])+\";\""
   ]
  },
  {
   "cell_type": "code",
   "execution_count": 8,
   "id": "2e270059",
   "metadata": {},
   "outputs": [
    {
     "ename": "OperationalError",
     "evalue": "no such table: HWSD_DATA",
     "output_type": "error",
     "traceback": [
      "\u001b[1;31m---------------------------------------------------------------------------\u001b[0m",
      "\u001b[1;31mOperationalError\u001b[0m                          Traceback (most recent call last)",
      "\u001b[1;32m~\\AppData\\Local\\Temp\\ipykernel_18988\\1593766187.py\u001b[0m in \u001b[0;36m<module>\u001b[1;34m\u001b[0m\n\u001b[0;32m      8\u001b[0m \u001b[1;33m\u001b[0m\u001b[0m\n\u001b[0;32m      9\u001b[0m \u001b[0mquery\u001b[0m \u001b[1;33m=\u001b[0m \u001b[0mquery\u001b[0m\u001b[1;33m+\u001b[0m\u001b[1;34m\";\"\u001b[0m\u001b[1;33m\u001b[0m\u001b[1;33m\u001b[0m\u001b[0m\n\u001b[1;32m---> 10\u001b[1;33m \u001b[0mrow\u001b[0m \u001b[1;33m=\u001b[0m \u001b[0mcursor\u001b[0m\u001b[1;33m.\u001b[0m\u001b[0mexecute\u001b[0m\u001b[1;33m(\u001b[0m\u001b[0mquery\u001b[0m\u001b[1;33m)\u001b[0m\u001b[1;33m\u001b[0m\u001b[1;33m\u001b[0m\u001b[0m\n\u001b[0m",
      "\u001b[1;31mOperationalError\u001b[0m: no such table: HWSD_DATA"
     ]
    }
   ],
   "source": [
    "query = \"select * from HWSD_DATA where MU_GLOBAL == \" + str(mu_global[0])\n",
    "if len(mu_global) > 1:\n",
    "    for code in mu_global:\n",
    "        if code == mu_global[0]:\n",
    "            continue\n",
    "        query = query + \" OR MU_GLOBAL == \" + str(code)\n",
    "\n",
    "\n",
    "query = query+\";\"\n",
    "row = cursor.execute(query)"
   ]
  },
  {
   "cell_type": "code",
   "execution_count": null,
   "id": "aa9be9a9",
   "metadata": {},
   "outputs": [],
   "source": [
    "outerList = list()\n",
    "for queryItem in row:\n",
    "    inner = str()\n",
    "    for tupleItem in queryItem:\n",
    "        if tupleItem == None or tupleItem == \"Null\":\n",
    "            inner = inner + \"None;\"\n",
    "        else:\n",
    "            inner = inner + str(tupleItem)+\";\"\n",
    "    outerList.append(inner)\n",
    "    "
   ]
  },
  {
   "cell_type": "code",
   "execution_count": null,
   "id": "a60b0aeb",
   "metadata": {},
   "outputs": [],
   "source": [
    "if csvPath == \"\":\n",
    "    csvPath =\"mu_globalCodes.csv\"\n",
    "else:\n",
    "    csvPath = csvPath + \"\\mu_globalCodes.csv\""
   ]
  },
  {
   "cell_type": "code",
   "execution_count": null,
   "id": "7e49b85f",
   "metadata": {},
   "outputs": [],
   "source": [
    "with open(csvPath, 'w', newline='') as csvfile:\n",
    "    writer = csv.writer(csvfile, delimiter=',')\n",
    "    writer.writerows([[header]])\n",
    "    for item in outerList:\n",
    "        writer.writerows([[item]])"
   ]
  }
 ],
 "metadata": {
  "kernelspec": {
   "display_name": "Python 3 (ipykernel)",
   "language": "python",
   "name": "python3"
  },
  "language_info": {
   "codemirror_mode": {
    "name": "ipython",
    "version": 3
   },
   "file_extension": ".py",
   "mimetype": "text/x-python",
   "name": "python",
   "nbconvert_exporter": "python",
   "pygments_lexer": "ipython3",
   "version": "3.9.13"
  }
 },
 "nbformat": 4,
 "nbformat_minor": 5
}
